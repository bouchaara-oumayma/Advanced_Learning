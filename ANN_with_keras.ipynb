{
  "cells": [
    {
      "cell_type": "markdown",
      "metadata": {
        "id": "2dtE03KzXlJQ"
      },
      "source": [
        "# Artificial Neural Networks with Keras"
      ]
    },
    {
      "cell_type": "markdown",
      "metadata": {
        "id": "fS9NItMtXlJb"
      },
      "source": [
        "<table align=\"left\">\n",
        "  <td>\n",
        "    <a target=\"_blank\" href=\"https://colab.research.google.com/github/AbdelMahm/INPT-2020/blob/master/Notebooks_DL/ANN_with_keras.ipynb\"><img src=\"https://colab.research.google.com/img/colab_favicon_256px.png\" />Run in Google Colab</a>\n",
        "  </td>\n",
        "</table>"
      ]
    },
    {
      "cell_type": "markdown",
      "metadata": {
        "id": "DkXCwzERXlJc"
      },
      "source": [
        "# Setup"
      ]
    },
    {
      "cell_type": "markdown",
      "source": [
        "Firstly, let's import a few common modules, ensure MatplotLib plots figures inline and prepare a function to save the figures. We also check that Python 3.5 or later is installed (although Python 2.x may work, it is deprecated so we strongly recommend you use Python 3 instead), as well as Scikit-Learn ≥0.20 and TensorFlow ≥2.0."
      ],
      "metadata": {
        "id": "k707SezUXs2L"
      }
    },
    {
      "cell_type": "code",
      "execution_count": 62,
      "metadata": {
        "id": "43nL_z2qXlJf"
      },
      "outputs": [],
      "source": [
        "# TensorFlow ≥2.0 is required\n",
        "import tensorflow as tf\n",
        "\n",
        "# Common imports\n",
        "import numpy as np\n",
        "import os\n",
        "\n",
        "# to make this notebook's output stable across runs\n",
        "np.random.seed(42)\n",
        "\n",
        "# To plot pretty figures\n",
        "%matplotlib inline\n",
        "import matplotlib as mpl\n",
        "import matplotlib.pyplot as plt\n",
        "mpl.rc('axes', labelsize=14)\n",
        "mpl.rc('xtick', labelsize=12)\n",
        "mpl.rc('ytick', labelsize=12)\n",
        "\n",
        "# Ignore useless warnings (see SciPy issue #5998)\n",
        "import warnings\n",
        "warnings.filterwarnings(action=\"ignore\", message=\"^internal gelsd\")"
      ]
    },
    {
      "cell_type": "markdown",
      "metadata": {
        "id": "9Ek6-mNEXlJg"
      },
      "source": [
        "# Building an Image Classifier"
      ]
    },
    {
      "cell_type": "markdown",
      "metadata": {
        "id": "31y_FbkDXlJh"
      },
      "source": [
        "First let's import TensorFlow and Keras."
      ]
    },
    {
      "cell_type": "code",
      "execution_count": 63,
      "metadata": {
        "collapsed": true,
        "id": "Gf3WmlTFXlJi"
      },
      "outputs": [],
      "source": [
        "import tensorflow as tf\n",
        "from tensorflow import keras"
      ]
    },
    {
      "cell_type": "code",
      "execution_count": 64,
      "metadata": {
        "id": "UdWRojsKXlJj",
        "outputId": "7d4d2b5d-bc1a-4306-8b30-cf447ae4339b",
        "colab": {
          "base_uri": "https://localhost:8080/",
          "height": 35
        }
      },
      "outputs": [
        {
          "output_type": "execute_result",
          "data": {
            "text/plain": [
              "'2.8.0'"
            ],
            "application/vnd.google.colaboratory.intrinsic+json": {
              "type": "string"
            }
          },
          "metadata": {},
          "execution_count": 64
        }
      ],
      "source": [
        "tf.__version__"
      ]
    },
    {
      "cell_type": "markdown",
      "metadata": {
        "id": "6g4qmJ57XlJj"
      },
      "source": [
        "Let's start by loading the fashion MNIST dataset. Keras has a number of functions to load popular datasets in `keras.datasets`. The dataset is already split for you between a training set and a test set, but it can be useful to split the training set further to have a validation set:"
      ]
    },
    {
      "cell_type": "code",
      "execution_count": 65,
      "metadata": {
        "collapsed": true,
        "id": "pNRxgskgXlJk"
      },
      "outputs": [],
      "source": [
        "fashion_mnist = keras.datasets.fashion_mnist\n",
        "(X_train_full, y_train_full), (X_test, y_test) = fashion_mnist.load_data()"
      ]
    },
    {
      "cell_type": "markdown",
      "metadata": {
        "id": "sgs8frdDXlJk"
      },
      "source": [
        "The training set contains 60,000 grayscale images, each 28x28 pixels:"
      ]
    },
    {
      "cell_type": "code",
      "execution_count": 66,
      "metadata": {
        "id": "pvaGR-8AXlJs",
        "outputId": "11f40074-0cc6-4a33-a011-b320609a80ec",
        "colab": {
          "base_uri": "https://localhost:8080/"
        }
      },
      "outputs": [
        {
          "output_type": "execute_result",
          "data": {
            "text/plain": [
              "(60000, 28, 28)"
            ]
          },
          "metadata": {},
          "execution_count": 66
        }
      ],
      "source": [
        "X_train_full.shape"
      ]
    },
    {
      "cell_type": "markdown",
      "metadata": {
        "id": "aM1MsLNcXlJu"
      },
      "source": [
        "Each pixel intensity is represented as a byte (0 to 255):"
      ]
    },
    {
      "cell_type": "code",
      "execution_count": 67,
      "metadata": {
        "id": "ivxUR_uFXlJv",
        "outputId": "71a4e8f7-f55e-482c-f0c4-03999cc5ce66",
        "colab": {
          "base_uri": "https://localhost:8080/"
        }
      },
      "outputs": [
        {
          "output_type": "execute_result",
          "data": {
            "text/plain": [
              "dtype('uint8')"
            ]
          },
          "metadata": {},
          "execution_count": 67
        }
      ],
      "source": [
        "X_train_full.dtype"
      ]
    },
    {
      "cell_type": "markdown",
      "metadata": {
        "id": "a885ZJsVXlJv"
      },
      "source": [
        "Let's split the full training set into a validation set and a (smaller) training set. We also scale the pixel intensities down to the 0-1 range and convert them to floats, by dividing by 255."
      ]
    },
    {
      "cell_type": "code",
      "execution_count": 68,
      "metadata": {
        "collapsed": true,
        "id": "DJVpLiPsXlJw"
      },
      "outputs": [],
      "source": [
        "X_valid, X_train = X_train_full[:5000] / 255., X_train_full[5000:] / 255.\n",
        "y_valid, y_train = y_train_full[:5000], y_train_full[5000:]\n",
        "X_test = X_test / 255."
      ]
    },
    {
      "cell_type": "markdown",
      "metadata": {
        "id": "rfoH3TZEXlJx"
      },
      "source": [
        "You can plot an image using Matplotlib's `imshow()` function, with a `'binary'`\n",
        " color map:"
      ]
    },
    {
      "cell_type": "code",
      "execution_count": 69,
      "metadata": {
        "id": "CNvVt9JVXlJx",
        "outputId": "08fba22b-9f5a-4d42-8dc7-a9514d5b88dd",
        "colab": {
          "base_uri": "https://localhost:8080/",
          "height": 248
        }
      },
      "outputs": [
        {
          "output_type": "display_data",
          "data": {
            "text/plain": [
              "<Figure size 432x288 with 1 Axes>"
            ],
            "image/png": "[encoded data removed]"
          },
          "metadata": {
            "needs_background": "light"
          }
        }
      ],
      "source": [
        "plt.imshow(X_train[0], cmap=\"binary\")\n",
        "plt.axis('off')\n",
        "plt.show()"
      ]
    },
    {
      "cell_type": "markdown",
      "metadata": {
        "id": "DO42rou2XlJy"
      },
      "source": [
        "The labels are the class IDs (represented as uint8), from 0 to 9:"
      ]
    },
    {
      "cell_type": "code",
      "execution_count": 70,
      "metadata": {
        "id": "Jxfh3pZHXlJz",
        "outputId": "6c7af9bc-480f-4766-8089-0cf79fb385fd",
        "colab": {
          "base_uri": "https://localhost:8080/"
        }
      },
      "outputs": [
        {
          "output_type": "execute_result",
          "data": {
            "text/plain": [
              "array([4, 0, 7, ..., 3, 0, 5], dtype=uint8)"
            ]
          },
          "metadata": {},
          "execution_count": 70
        }
      ],
      "source": [
        "y_train"
      ]
    },
    {
      "cell_type": "markdown",
      "metadata": {
        "id": "31qnMRYcXlJz"
      },
      "source": [
        "Here are the corresponding class names:"
      ]
    },
    {
      "cell_type": "code",
      "execution_count": 71,
      "metadata": {
        "collapsed": true,
        "id": "2bjXu4tvXlJ0"
      },
      "outputs": [],
      "source": [
        "class_names = [\"T-shirt/top\", \"Trouser\", \"Pullover\", \"Dress\", \"Coat\",\n",
        "               \"Sandal\", \"Shirt\", \"Sneaker\", \"Bag\", \"Ankle boot\"]"
      ]
    },
    {
      "cell_type": "markdown",
      "metadata": {
        "id": "6w6U5N5KXlJ1"
      },
      "source": [
        "So the first image in the training set is a coat:"
      ]
    },
    {
      "cell_type": "code",
      "execution_count": 72,
      "metadata": {
        "id": "CFCeUYKaXlJ3",
        "outputId": "d5f75beb-bb8f-4a9d-dc04-80f8f3d2496a",
        "colab": {
          "base_uri": "https://localhost:8080/",
          "height": 35
        }
      },
      "outputs": [
        {
          "output_type": "execute_result",
          "data": {
            "text/plain": [
              "'Coat'"
            ],
            "application/vnd.google.colaboratory.intrinsic+json": {
              "type": "string"
            }
          },
          "metadata": {},
          "execution_count": 72
        }
      ],
      "source": [
        "class_names[y_train[0]]"
      ]
    },
    {
      "cell_type": "markdown",
      "metadata": {
        "id": "K-5Ex2aRXlJ9"
      },
      "source": [
        "The validation set contains 5,000 images, and the test set contains 10,000 images:"
      ]
    },
    {
      "cell_type": "code",
      "execution_count": 73,
      "metadata": {
        "id": "d1HVKIA8XlJ-",
        "outputId": "9ea80f1e-3c95-49b0-ce09-b1e67bf7a76d",
        "colab": {
          "base_uri": "https://localhost:8080/"
        }
      },
      "outputs": [
        {
          "output_type": "execute_result",
          "data": {
            "text/plain": [
              "(5000, 28, 28)"
            ]
          },
          "metadata": {},
          "execution_count": 73
        }
      ],
      "source": [
        "X_valid.shape"
      ]
    },
    {
      "cell_type": "code",
      "execution_count": 74,
      "metadata": {
        "id": "HuEIQuQ_XlJ-",
        "outputId": "92e35725-8578-4688-bd76-3d39264b5d14",
        "colab": {
          "base_uri": "https://localhost:8080/"
        }
      },
      "outputs": [
        {
          "output_type": "execute_result",
          "data": {
            "text/plain": [
              "(10000, 28, 28)"
            ]
          },
          "metadata": {},
          "execution_count": 74
        }
      ],
      "source": [
        "X_test.shape"
      ]
    },
    {
      "cell_type": "markdown",
      "metadata": {
        "id": "SPOUviFKXlJ-"
      },
      "source": [
        "Let's take a look at a sample of the images in the dataset:"
      ]
    },
    {
      "cell_type": "code",
      "execution_count": 75,
      "metadata": {
        "id": "NUo-xcACXlJ-",
        "outputId": "2d1e5be4-e0fe-45f2-df8d-aa6b5290d408",
        "colab": {
          "base_uri": "https://localhost:8080/",
          "height": 308
        }
      },
      "outputs": [
        {
          "output_type": "display_data",
          "data": {
            "text/plain": [
              "<Figure size 864x345.6 with 40 Axes>"
            ],
            "image/png": "[encoded data removed]"
          },
          "metadata": {
            "needs_background": "light"
          }
        }
      ],
      "source": [
        "n_rows = 4\n",
        "n_cols = 10\n",
        "plt.figure(figsize=(n_cols * 1.2, n_rows * 1.2))\n",
        "for row in range(n_rows):\n",
        "    for col in range(n_cols):\n",
        "        index = n_cols * row + col\n",
        "        plt.subplot(n_rows, n_cols, index + 1)\n",
        "        plt.imshow(X_train[index], cmap=\"binary\", interpolation=\"nearest\")\n",
        "        plt.axis('off')\n",
        "        plt.title(class_names[y_train[index]], fontsize=12)\n",
        "plt.subplots_adjust(wspace=0.2, hspace=0.5)\n",
        "plt.show()"
      ]
    },
    {
      "cell_type": "markdown",
      "metadata": {
        "id": "S2WzDpbBXlJ_"
      },
      "source": [
        "## Construct a Model"
      ]
    },
    {
      "cell_type": "code",
      "execution_count": 76,
      "metadata": {
        "collapsed": true,
        "id": "JEJ2lsbVXlJ_"
      },
      "outputs": [],
      "source": [
        "model = keras.models.Sequential()\n",
        "model.add(keras.layers.Flatten(input_shape=[28, 28]))\n",
        "model.add(keras.layers.Dense(300, activation=\"relu\"))\n",
        "model.add(keras.layers.Dense(100, activation=\"relu\"))\n",
        "model.add(keras.layers.Dense(10, activation=\"softmax\"))"
      ]
    },
    {
      "cell_type": "code",
      "execution_count": 77,
      "metadata": {
        "collapsed": true,
        "id": "Pjk4Mo90XlJ_"
      },
      "outputs": [],
      "source": [
        "keras.backend.clear_session()\n",
        "np.random.seed(42)"
      ]
    },
    {
      "cell_type": "markdown",
      "metadata": {
        "id": "c83SfavdXlJ_"
      },
      "source": [
        "### or using the folowing method"
      ]
    },
    {
      "cell_type": "code",
      "execution_count": 78,
      "metadata": {
        "collapsed": true,
        "id": "-3fDBKimXlJ_"
      },
      "outputs": [],
      "source": [
        "model = keras.models.Sequential([\n",
        "    keras.layers.Flatten(input_shape=[28, 28]),\n",
        "    keras.layers.Dense(300, activation=\"relu\"),\n",
        "    keras.layers.Dense(100, activation=\"relu\"),\n",
        "    keras.layers.Dense(10, activation=\"softmax\")\n",
        "])"
      ]
    },
    {
      "cell_type": "code",
      "execution_count": 79,
      "metadata": {
        "id": "-SXWYGVWXlKA",
        "outputId": "00d6e7a8-3a8c-4d3d-c5e0-ab4ac9132172",
        "colab": {
          "base_uri": "https://localhost:8080/"
        }
      },
      "outputs": [
        {
          "output_type": "execute_result",
          "data": {
            "text/plain": [
              "[<keras.layers.core.flatten.Flatten at 0x7f2190433690>,\n",
              " <keras.layers.core.dense.Dense at 0x7f21903d5a50>,\n",
              " <keras.layers.core.dense.Dense at 0x7f2190340d50>,\n",
              " <keras.layers.core.dense.Dense at 0x7f2190340c10>]"
            ]
          },
          "metadata": {},
          "execution_count": 79
        }
      ],
      "source": [
        "model.layers"
      ]
    },
    {
      "cell_type": "code",
      "execution_count": 80,
      "metadata": {
        "id": "q_lTh_ZIXlKB",
        "outputId": "fafb7308-355d-495d-b46f-40c69abae12b",
        "colab": {
          "base_uri": "https://localhost:8080/"
        }
      },
      "outputs": [
        {
          "output_type": "stream",
          "name": "stdout",
          "text": [
            "Model: \"sequential\"\n",
            "_________________________________________________________________\n",
            " Layer (type)                Output Shape              Param #   \n",
            "=================================================================\n",
            " flatten (Flatten)           (None, 784)               0         \n",
            "                                                                 \n",
            " dense (Dense)               (None, 300)               235500    \n",
            "                                                                 \n",
            " dense_1 (Dense)             (None, 100)               30100     \n",
            "                                                                 \n",
            " dense_2 (Dense)             (None, 10)                1010      \n",
            "                                                                 \n",
            "=================================================================\n",
            "Total params: 266,610\n",
            "Trainable params: 266,610\n",
            "Non-trainable params: 0\n",
            "_________________________________________________________________\n"
          ]
        }
      ],
      "source": [
        "model.summary()"
      ]
    },
    {
      "cell_type": "code",
      "execution_count": 81,
      "metadata": {
        "collapsed": true,
        "id": "btPVmfLoXlKB"
      },
      "outputs": [],
      "source": [
        "#keras.utils.plot_model(model, \"my_mnist_model.png\", show_shapes=True)"
      ]
    },
    {
      "cell_type": "code",
      "execution_count": 82,
      "metadata": {
        "id": "zDJHnJ90XlKB",
        "outputId": "04fe8479-8614-4640-bd95-74978a55136f",
        "colab": {
          "base_uri": "https://localhost:8080/",
          "height": 35
        }
      },
      "outputs": [
        {
          "output_type": "execute_result",
          "data": {
            "text/plain": [
              "'dense'"
            ],
            "application/vnd.google.colaboratory.intrinsic+json": {
              "type": "string"
            }
          },
          "metadata": {},
          "execution_count": 82
        }
      ],
      "source": [
        "hidden1 = model.layers[1]\n",
        "hidden1.name"
      ]
    },
    {
      "cell_type": "code",
      "execution_count": 83,
      "metadata": {
        "id": "oGnbepd7XlKB",
        "outputId": "7673574b-e780-4764-a1df-71c2a967191e",
        "colab": {
          "base_uri": "https://localhost:8080/"
        }
      },
      "outputs": [
        {
          "output_type": "execute_result",
          "data": {
            "text/plain": [
              "True"
            ]
          },
          "metadata": {},
          "execution_count": 83
        }
      ],
      "source": [
        "model.get_layer(hidden1.name) is hidden1"
      ]
    },
    {
      "cell_type": "code",
      "execution_count": 84,
      "metadata": {
        "collapsed": true,
        "id": "wljhNlUeXlKB"
      },
      "outputs": [],
      "source": [
        "weights, biases = hidden1.get_weights()"
      ]
    },
    {
      "cell_type": "code",
      "execution_count": 85,
      "metadata": {
        "id": "h60EKnBpXlKC",
        "outputId": "3ef20fa4-faed-4792-cc01-24f581b996a3",
        "colab": {
          "base_uri": "https://localhost:8080/"
        }
      },
      "outputs": [
        {
          "output_type": "execute_result",
          "data": {
            "text/plain": [
              "array([[-0.05574259, -0.01186311,  0.05151691, ..., -0.00874624,\n",
              "        -0.05002768, -0.02664211],\n",
              "       [-0.00773731,  0.05381887,  0.0303122 , ..., -0.05539129,\n",
              "        -0.02485396, -0.02313227],\n",
              "       [ 0.03723378,  0.04244777,  0.03598973, ..., -0.01279277,\n",
              "        -0.02177295,  0.03539483],\n",
              "       ...,\n",
              "       [-0.06486087, -0.01097253, -0.02756424, ...,  0.02063312,\n",
              "        -0.02660449, -0.03871808],\n",
              "       [-0.03881601,  0.03862345, -0.01904861, ...,  0.01071651,\n",
              "        -0.02817538,  0.03289616],\n",
              "       [-0.0327121 , -0.06779202, -0.05154596, ...,  0.058515  ,\n",
              "        -0.06215936,  0.06413589]], dtype=float32)"
            ]
          },
          "metadata": {},
          "execution_count": 85
        }
      ],
      "source": [
        "weights"
      ]
    },
    {
      "cell_type": "code",
      "execution_count": 86,
      "metadata": {
        "id": "gwQylS3UXlKC",
        "outputId": "a23212ce-1bab-4a41-f581-e0d342628afe",
        "colab": {
          "base_uri": "https://localhost:8080/"
        }
      },
      "outputs": [
        {
          "output_type": "execute_result",
          "data": {
            "text/plain": [
              "(784, 300)"
            ]
          },
          "metadata": {},
          "execution_count": 86
        }
      ],
      "source": [
        "weights.shape"
      ]
    },
    {
      "cell_type": "code",
      "execution_count": 87,
      "metadata": {
        "id": "VF_xJde3XlKC",
        "outputId": "9b8c182d-dd4c-4c8e-cb54-53f052c16c6e",
        "colab": {
          "base_uri": "https://localhost:8080/"
        }
      },
      "outputs": [
        {
          "output_type": "execute_result",
          "data": {
            "text/plain": [
              "array([0., 0., 0., 0., 0., 0., 0., 0., 0., 0., 0., 0., 0., 0., 0., 0., 0.,\n",
              "       0., 0., 0., 0., 0., 0., 0., 0., 0., 0., 0., 0., 0., 0., 0., 0., 0.,\n",
              "       0., 0., 0., 0., 0., 0., 0., 0., 0., 0., 0., 0., 0., 0., 0., 0., 0.,\n",
              "       0., 0., 0., 0., 0., 0., 0., 0., 0., 0., 0., 0., 0., 0., 0., 0., 0.,\n",
              "       0., 0., 0., 0., 0., 0., 0., 0., 0., 0., 0., 0., 0., 0., 0., 0., 0.,\n",
              "       0., 0., 0., 0., 0., 0., 0., 0., 0., 0., 0., 0., 0., 0., 0., 0., 0.,\n",
              "       0., 0., 0., 0., 0., 0., 0., 0., 0., 0., 0., 0., 0., 0., 0., 0., 0.,\n",
              "       0., 0., 0., 0., 0., 0., 0., 0., 0., 0., 0., 0., 0., 0., 0., 0., 0.,\n",
              "       0., 0., 0., 0., 0., 0., 0., 0., 0., 0., 0., 0., 0., 0., 0., 0., 0.,\n",
              "       0., 0., 0., 0., 0., 0., 0., 0., 0., 0., 0., 0., 0., 0., 0., 0., 0.,\n",
              "       0., 0., 0., 0., 0., 0., 0., 0., 0., 0., 0., 0., 0., 0., 0., 0., 0.,\n",
              "       0., 0., 0., 0., 0., 0., 0., 0., 0., 0., 0., 0., 0., 0., 0., 0., 0.,\n",
              "       0., 0., 0., 0., 0., 0., 0., 0., 0., 0., 0., 0., 0., 0., 0., 0., 0.,\n",
              "       0., 0., 0., 0., 0., 0., 0., 0., 0., 0., 0., 0., 0., 0., 0., 0., 0.,\n",
              "       0., 0., 0., 0., 0., 0., 0., 0., 0., 0., 0., 0., 0., 0., 0., 0., 0.,\n",
              "       0., 0., 0., 0., 0., 0., 0., 0., 0., 0., 0., 0., 0., 0., 0., 0., 0.,\n",
              "       0., 0., 0., 0., 0., 0., 0., 0., 0., 0., 0., 0., 0., 0., 0., 0., 0.,\n",
              "       0., 0., 0., 0., 0., 0., 0., 0., 0., 0., 0.], dtype=float32)"
            ]
          },
          "metadata": {},
          "execution_count": 87
        }
      ],
      "source": [
        "biases"
      ]
    },
    {
      "cell_type": "code",
      "execution_count": 88,
      "metadata": {
        "id": "oB204vh0XlKC",
        "outputId": "c7050e11-487c-43c2-8e45-89ad6e920def",
        "colab": {
          "base_uri": "https://localhost:8080/"
        }
      },
      "outputs": [
        {
          "output_type": "execute_result",
          "data": {
            "text/plain": [
              "(300,)"
            ]
          },
          "metadata": {},
          "execution_count": 88
        }
      ],
      "source": [
        "biases.shape"
      ]
    },
    {
      "cell_type": "markdown",
      "metadata": {
        "id": "oSbGncB0XlKC"
      },
      "source": [
        "### Compile the Model\n",
        "Here you can chose the loss function, the optimizer, the performance metric, etc. check Keras documentation for further details."
      ]
    },
    {
      "cell_type": "code",
      "execution_count": 89,
      "metadata": {
        "collapsed": true,
        "id": "uHAgJESwXlKD"
      },
      "outputs": [],
      "source": [
        "model.compile(loss=\"sparse_categorical_crossentropy\",\n",
        "             optimizer=\"sgd\",\n",
        "              metrics=[\"accuracy\"])"
      ]
    },
    {
      "cell_type": "markdown",
      "metadata": {
        "id": "_yuZgdrXXlKD"
      },
      "source": [
        "This is equivalent to:"
      ]
    },
    {
      "cell_type": "markdown",
      "metadata": {
        "id": "uaXmRR50XlKD"
      },
      "source": [
        "```python\n",
        "model.compile(loss=keras.losses.sparse_categorical_crossentropy,\n",
        "              optimizer=keras.optimizers.SGD(),\n",
        "              metrics=[keras.metrics.sparse_categorical_accuracy])\n",
        "```"
      ]
    },
    {
      "cell_type": "markdown",
      "metadata": {
        "id": "xTaW_CSLXlKD"
      },
      "source": [
        "### Train the model\n",
        "Here you can chose how many epochs you need and the batch size."
      ]
    },
    {
      "cell_type": "code",
      "execution_count": 90,
      "metadata": {
        "id": "KDG5HQHIXlKD",
        "outputId": "14c3c832-b38c-4552-c61c-68bfb17db466",
        "colab": {
          "base_uri": "https://localhost:8080/"
        }
      },
      "outputs": [
        {
          "output_type": "stream",
          "name": "stdout",
          "text": [
            "Epoch 1/30\n",
            "1719/1719 [==============================] - 7s 4ms/step - loss: 0.7109 - accuracy: 0.7664 - val_loss: 0.5039 - val_accuracy: 0.8348\n",
            "Epoch 2/30\n",
            "1719/1719 [==============================] - 6s 4ms/step - loss: 0.4862 - accuracy: 0.8306 - val_loss: 0.4467 - val_accuracy: 0.8508\n",
            "Epoch 3/30\n",
            "1719/1719 [==============================] - 6s 3ms/step - loss: 0.4418 - accuracy: 0.8455 - val_loss: 0.4200 - val_accuracy: 0.8614\n",
            "Epoch 4/30\n",
            "1719/1719 [==============================] - 6s 4ms/step - loss: 0.4148 - accuracy: 0.8541 - val_loss: 0.3949 - val_accuracy: 0.8646\n",
            "Epoch 5/30\n",
            "1719/1719 [==============================] - 6s 4ms/step - loss: 0.3936 - accuracy: 0.8613 - val_loss: 0.3990 - val_accuracy: 0.8566\n",
            "Epoch 6/30\n",
            "1719/1719 [==============================] - 7s 4ms/step - loss: 0.3773 - accuracy: 0.8663 - val_loss: 0.3888 - val_accuracy: 0.8614\n",
            "Epoch 7/30\n",
            "1719/1719 [==============================] - 7s 4ms/step - loss: 0.3633 - accuracy: 0.8710 - val_loss: 0.3746 - val_accuracy: 0.8680\n",
            "Epoch 8/30\n",
            "1719/1719 [==============================] - 7s 4ms/step - loss: 0.3512 - accuracy: 0.8757 - val_loss: 0.3712 - val_accuracy: 0.8686\n",
            "Epoch 9/30\n",
            "1719/1719 [==============================] - 7s 4ms/step - loss: 0.3402 - accuracy: 0.8787 - val_loss: 0.3505 - val_accuracy: 0.8764\n",
            "Epoch 10/30\n",
            "1719/1719 [==============================] - 7s 4ms/step - loss: 0.3306 - accuracy: 0.8815 - val_loss: 0.3630 - val_accuracy: 0.8704\n",
            "Epoch 11/30\n",
            "1719/1719 [==============================] - 7s 4ms/step - loss: 0.3231 - accuracy: 0.8838 - val_loss: 0.3567 - val_accuracy: 0.8728\n",
            "Epoch 12/30\n",
            "1719/1719 [==============================] - 7s 4ms/step - loss: 0.3146 - accuracy: 0.8873 - val_loss: 0.3459 - val_accuracy: 0.8766\n",
            "Epoch 13/30\n",
            "1719/1719 [==============================] - 6s 4ms/step - loss: 0.3063 - accuracy: 0.8900 - val_loss: 0.3336 - val_accuracy: 0.8826\n",
            "Epoch 14/30\n",
            "1719/1719 [==============================] - 7s 4ms/step - loss: 0.3010 - accuracy: 0.8909 - val_loss: 0.3638 - val_accuracy: 0.8740\n",
            "Epoch 15/30\n",
            "1719/1719 [==============================] - 7s 4ms/step - loss: 0.2939 - accuracy: 0.8936 - val_loss: 0.3473 - val_accuracy: 0.8728\n",
            "Epoch 16/30\n",
            "1719/1719 [==============================] - 7s 4ms/step - loss: 0.2885 - accuracy: 0.8955 - val_loss: 0.3186 - val_accuracy: 0.8870\n",
            "Epoch 17/30\n",
            "1719/1719 [==============================] - 6s 4ms/step - loss: 0.2830 - accuracy: 0.8977 - val_loss: 0.3349 - val_accuracy: 0.8822\n",
            "Epoch 18/30\n",
            "1719/1719 [==============================] - 6s 4ms/step - loss: 0.2766 - accuracy: 0.9001 - val_loss: 0.3193 - val_accuracy: 0.8878\n",
            "Epoch 19/30\n",
            "1719/1719 [==============================] - 6s 4ms/step - loss: 0.2707 - accuracy: 0.9024 - val_loss: 0.3124 - val_accuracy: 0.8878\n",
            "Epoch 20/30\n",
            "1719/1719 [==============================] - 7s 4ms/step - loss: 0.2671 - accuracy: 0.9033 - val_loss: 0.3107 - val_accuracy: 0.8886\n",
            "Epoch 21/30\n",
            "1719/1719 [==============================] - 6s 4ms/step - loss: 0.2613 - accuracy: 0.9046 - val_loss: 0.3143 - val_accuracy: 0.8880\n",
            "Epoch 22/30\n",
            "1719/1719 [==============================] - 6s 4ms/step - loss: 0.2571 - accuracy: 0.9075 - val_loss: 0.3158 - val_accuracy: 0.8870\n",
            "Epoch 23/30\n",
            "1719/1719 [==============================] - 7s 4ms/step - loss: 0.2527 - accuracy: 0.9085 - val_loss: 0.3071 - val_accuracy: 0.8882\n",
            "Epoch 24/30\n",
            "1719/1719 [==============================] - 7s 4ms/step - loss: 0.2489 - accuracy: 0.9110 - val_loss: 0.3089 - val_accuracy: 0.8888\n",
            "Epoch 25/30\n",
            "1719/1719 [==============================] - 7s 4ms/step - loss: 0.2445 - accuracy: 0.9121 - val_loss: 0.3031 - val_accuracy: 0.8910\n",
            "Epoch 26/30\n",
            "1719/1719 [==============================] - 7s 4ms/step - loss: 0.2389 - accuracy: 0.9144 - val_loss: 0.3008 - val_accuracy: 0.8910\n",
            "Epoch 27/30\n",
            "1719/1719 [==============================] - 7s 4ms/step - loss: 0.2364 - accuracy: 0.9149 - val_loss: 0.3100 - val_accuracy: 0.8926\n",
            "Epoch 28/30\n",
            "1719/1719 [==============================] - 6s 4ms/step - loss: 0.2324 - accuracy: 0.9159 - val_loss: 0.3089 - val_accuracy: 0.8888\n",
            "Epoch 29/30\n",
            "1719/1719 [==============================] - 6s 4ms/step - loss: 0.2286 - accuracy: 0.9189 - val_loss: 0.3168 - val_accuracy: 0.8830\n",
            "Epoch 30/30\n",
            "1719/1719 [==============================] - 6s 4ms/step - loss: 0.2242 - accuracy: 0.9203 - val_loss: 0.2972 - val_accuracy: 0.8932\n"
          ]
        }
      ],
      "source": [
        "history = model.fit(X_train, y_train, batch_size=32, epochs=30,\n",
        "                    validation_data=(X_valid, y_valid))"
      ]
    },
    {
      "cell_type": "code",
      "execution_count": 91,
      "metadata": {
        "id": "59jnrxcbXlKD",
        "outputId": "7335c519-c144-41c6-8d83-e701d6b00971",
        "colab": {
          "base_uri": "https://localhost:8080/"
        }
      },
      "outputs": [
        {
          "output_type": "execute_result",
          "data": {
            "text/plain": [
              "{'epochs': 30, 'steps': 1719, 'verbose': 1}"
            ]
          },
          "metadata": {},
          "execution_count": 91
        }
      ],
      "source": [
        "history.params"
      ]
    },
    {
      "cell_type": "code",
      "execution_count": 92,
      "metadata": {
        "id": "vGC3Wg9UXlKE",
        "outputId": "b1cc7b62-a10e-429f-f48c-e6a4c35c8c92",
        "colab": {
          "base_uri": "https://localhost:8080/"
        }
      },
      "outputs": [
        {
          "output_type": "stream",
          "name": "stdout",
          "text": [
            "[0, 1, 2, 3, 4, 5, 6, 7, 8, 9, 10, 11, 12, 13, 14, 15, 16, 17, 18, 19, 20, 21, 22, 23, 24, 25, 26, 27, 28, 29]\n"
          ]
        }
      ],
      "source": [
        "print(history.epoch)"
      ]
    },
    {
      "cell_type": "code",
      "execution_count": 93,
      "metadata": {
        "id": "x1uh5_9QXlKE",
        "outputId": "775364f1-8f3a-456f-b31e-96b8671fe330",
        "colab": {
          "base_uri": "https://localhost:8080/"
        }
      },
      "outputs": [
        {
          "output_type": "execute_result",
          "data": {
            "text/plain": [
              "dict_keys(['loss', 'accuracy', 'val_loss', 'val_accuracy'])"
            ]
          },
          "metadata": {},
          "execution_count": 93
        }
      ],
      "source": [
        "history.history.keys()"
      ]
    },
    {
      "cell_type": "markdown",
      "metadata": {
        "id": "WEhEY2PbXlKE"
      },
      "source": [
        "### Plot learning Curves"
      ]
    },
    {
      "cell_type": "code",
      "execution_count": 94,
      "metadata": {
        "id": "ignKnnhuXlKE",
        "outputId": "14107148-593c-42d9-d61b-ce360b23b55e",
        "colab": {
          "base_uri": "https://localhost:8080/",
          "height": 328
        }
      },
      "outputs": [
        {
          "output_type": "display_data",
          "data": {
            "text/plain": [
              "<Figure size 576x360 with 1 Axes>"
            ],
            "image/png": "[encoded data removed]"
          },
          "metadata": {
            "needs_background": "light"
          }
        }
      ],
      "source": [
        "import pandas as pd\n",
        "\n",
        "pd.DataFrame(history.history).plot(figsize=(8, 5))\n",
        "plt.grid(True)\n",
        "plt.gca().set_ylim(0, 1)\n",
        "plt.show()"
      ]
    },
    {
      "cell_type": "code",
      "execution_count": 95,
      "metadata": {
        "id": "frCpjtMSXlKE",
        "outputId": "5b436584-5571-4597-9b63-9e474108bc4b",
        "colab": {
          "base_uri": "https://localhost:8080/"
        }
      },
      "outputs": [
        {
          "output_type": "stream",
          "name": "stdout",
          "text": [
            "313/313 [==============================] - 1s 2ms/step - loss: 0.3213 - accuracy: 0.8865\n"
          ]
        },
        {
          "output_type": "execute_result",
          "data": {
            "text/plain": [
              "[0.32129546999931335, 0.8865000009536743]"
            ]
          },
          "metadata": {},
          "execution_count": 95
        }
      ],
      "source": [
        "model.evaluate(X_test, y_test)"
      ]
    },
    {
      "cell_type": "code",
      "execution_count": 96,
      "metadata": {
        "id": "Ori1N4NeXlKE",
        "outputId": "4f6c922d-c601-4b96-976a-69d3420edbcf",
        "colab": {
          "base_uri": "https://localhost:8080/"
        }
      },
      "outputs": [
        {
          "output_type": "execute_result",
          "data": {
            "text/plain": [
              "array([[0.  , 0.  , 0.  , 0.  , 0.  , 0.01, 0.  , 0.01, 0.  , 0.98],\n",
              "       [0.  , 0.  , 1.  , 0.  , 0.  , 0.  , 0.  , 0.  , 0.  , 0.  ],\n",
              "       [0.  , 1.  , 0.  , 0.  , 0.  , 0.  , 0.  , 0.  , 0.  , 0.  ]],\n",
              "      dtype=float32)"
            ]
          },
          "metadata": {},
          "execution_count": 96
        }
      ],
      "source": [
        "X_new = X_test[:3]\n",
        "y_proba = model.predict(X_new)\n",
        "y_proba.round(2)"
      ]
    },
    {
      "cell_type": "code",
      "execution_count": 101,
      "metadata": {
        "id": "VuRqD3kwXlKF"
      },
      "outputs": [],
      "source": [
        "# y_pred = model.predict_classes(X_new)\n",
        "# y_pred"
      ]
    },
    {
      "cell_type": "code",
      "execution_count": 100,
      "metadata": {
        "id": "cmgNKMrgXlKF"
      },
      "outputs": [],
      "source": [
        "# np.array(class_names)[y_pred]"
      ]
    },
    {
      "cell_type": "code",
      "execution_count": null,
      "metadata": {
        "id": "ZTAiZMXrXlKF"
      },
      "outputs": [],
      "source": [
        "# y_new = y_test[:3]\n",
        "# y_new"
      ]
    },
    {
      "cell_type": "code",
      "execution_count": null,
      "metadata": {
        "id": "uuH9idmYXlKF"
      },
      "outputs": [],
      "source": [
        "# plt.figure(figsize=(7.2, 2.4))\n",
        "# for index, image in enumerate(X_new):\n",
        "#     plt.subplot(1, 3, index + 1)\n",
        "#     plt.imshow(image, cmap=\"binary\", interpolation=\"nearest\")\n",
        "#     plt.axis('off')\n",
        "#     plt.title(class_names[y_test[index]], fontsize=12)\n",
        "# plt.subplots_adjust(wspace=0.2, hspace=0.5)\n",
        "# plt.show()"
      ]
    },
    {
      "cell_type": "markdown",
      "metadata": {
        "collapsed": true,
        "id": "pPzQWvxYXlKO"
      },
      "source": [
        "## Exercise"
      ]
    },
    {
      "cell_type": "markdown",
      "metadata": {
        "id": "AaPgHzA6XlKP"
      },
      "source": [
        "#### 1) Plot Learning curves when using different optimizers\n",
        "#### 2) Plot Learning curves when using different batch size\n",
        "#### 3) Plot Learning curves when using different number of epochs\n",
        "#### 4) Add additional neurons and use Dropout Layer. Plot Learning curves.\n",
        "#### 5) Use Batch Normalisation\n",
        "#### 6) repeat with more layers\n",
        "#### 7) apply on different datasets"
      ]
    },
    {
      "cell_type": "markdown",
      "source": [
        "### 1- optimizers"
      ],
      "metadata": {
        "id": "6QWkOgjNmKSO"
      }
    },
    {
      "cell_type": "markdown",
      "source": [
        "- rmsprop"
      ],
      "metadata": {
        "id": "HyMo0LzgmSuW"
      }
    },
    {
      "cell_type": "code",
      "source": [
        "model = keras.models.Sequential([\n",
        "    keras.layers.Flatten(input_shape=[28, 28]),\n",
        "    keras.layers.Dense(300, activation=\"relu\"),\n",
        "    keras.layers.Dense(100, activation=\"relu\"),\n",
        "    keras.layers.Dense(10, activation=\"softmax\")\n",
        "])"
      ],
      "metadata": {
        "id": "v01vhZTYdmE9"
      },
      "execution_count": 38,
      "outputs": []
    },
    {
      "cell_type": "code",
      "execution_count": 39,
      "metadata": {
        "collapsed": true,
        "id": "ke96Xx-jXlKP"
      },
      "outputs": [],
      "source": [
        "model.compile(loss=\"sparse_categorical_crossentropy\",\n",
        "             optimizer=\"rmsprop\",\n",
        "              metrics=[\"accuracy\"])"
      ]
    },
    {
      "cell_type": "code",
      "source": [
        "history = model.fit(X_train, y_train, batch_size=32, epochs=30,\n",
        "                    validation_data=(X_valid, y_valid))"
      ],
      "metadata": {
        "id": "cvIQto1FdoBG",
        "outputId": "96e71a9c-beca-440f-c555-77b911914842",
        "colab": {
          "base_uri": "https://localhost:8080/"
        }
      },
      "execution_count": 40,
      "outputs": [
        {
          "output_type": "stream",
          "name": "stdout",
          "text": [
            "Epoch 1/30\n",
            "1719/1719 [==============================] - 10s 5ms/step - loss: 0.5072 - accuracy: 0.8165 - val_loss: 0.4563 - val_accuracy: 0.8506\n",
            "Epoch 2/30\n",
            "1719/1719 [==============================] - 9s 5ms/step - loss: 0.3890 - accuracy: 0.8620 - val_loss: 0.3815 - val_accuracy: 0.8720\n",
            "Epoch 3/30\n",
            "1719/1719 [==============================] - 10s 6ms/step - loss: 0.3671 - accuracy: 0.8706 - val_loss: 0.4151 - val_accuracy: 0.8706\n",
            "Epoch 4/30\n",
            "1719/1719 [==============================] - 9s 5ms/step - loss: 0.3540 - accuracy: 0.8767 - val_loss: 0.3849 - val_accuracy: 0.8704\n",
            "Epoch 5/30\n",
            "1719/1719 [==============================] - 9s 5ms/step - loss: 0.3473 - accuracy: 0.8810 - val_loss: 0.4241 - val_accuracy: 0.8676\n",
            "Epoch 6/30\n",
            "1719/1719 [==============================] - 9s 5ms/step - loss: 0.3397 - accuracy: 0.8845 - val_loss: 0.4438 - val_accuracy: 0.8722\n",
            "Epoch 7/30\n",
            "1719/1719 [==============================] - 9s 5ms/step - loss: 0.3379 - accuracy: 0.8873 - val_loss: 0.4430 - val_accuracy: 0.8848\n",
            "Epoch 8/30\n",
            "1719/1719 [==============================] - 9s 5ms/step - loss: 0.3353 - accuracy: 0.8880 - val_loss: 0.4954 - val_accuracy: 0.8778\n",
            "Epoch 9/30\n",
            "1719/1719 [==============================] - 9s 5ms/step - loss: 0.3265 - accuracy: 0.8922 - val_loss: 0.5313 - val_accuracy: 0.8830\n",
            "Epoch 10/30\n",
            "1719/1719 [==============================] - 9s 5ms/step - loss: 0.3248 - accuracy: 0.8926 - val_loss: 0.5163 - val_accuracy: 0.8732\n",
            "Epoch 11/30\n",
            "1719/1719 [==============================] - 11s 6ms/step - loss: 0.3197 - accuracy: 0.8942 - val_loss: 0.4557 - val_accuracy: 0.8836\n",
            "Epoch 12/30\n",
            "1719/1719 [==============================] - 11s 6ms/step - loss: 0.3198 - accuracy: 0.8958 - val_loss: 0.5622 - val_accuracy: 0.8830\n",
            "Epoch 13/30\n",
            "1719/1719 [==============================] - 16s 10ms/step - loss: 0.3124 - accuracy: 0.8989 - val_loss: 0.5691 - val_accuracy: 0.8774\n",
            "Epoch 14/30\n",
            "1719/1719 [==============================] - 10s 6ms/step - loss: 0.3071 - accuracy: 0.8987 - val_loss: 0.6086 - val_accuracy: 0.8546\n",
            "Epoch 15/30\n",
            "1719/1719 [==============================] - 10s 6ms/step - loss: 0.3005 - accuracy: 0.9020 - val_loss: 0.6042 - val_accuracy: 0.8836\n",
            "Epoch 16/30\n",
            "1719/1719 [==============================] - 11s 6ms/step - loss: 0.3045 - accuracy: 0.9019 - val_loss: 0.6230 - val_accuracy: 0.8878\n",
            "Epoch 17/30\n",
            "1719/1719 [==============================] - 10s 6ms/step - loss: 0.3003 - accuracy: 0.9043 - val_loss: 0.6969 - val_accuracy: 0.8782\n",
            "Epoch 18/30\n",
            "1719/1719 [==============================] - 10s 6ms/step - loss: 0.2970 - accuracy: 0.9055 - val_loss: 0.6905 - val_accuracy: 0.8784\n",
            "Epoch 19/30\n",
            "1719/1719 [==============================] - 10s 6ms/step - loss: 0.2963 - accuracy: 0.9081 - val_loss: 0.7024 - val_accuracy: 0.8868\n",
            "Epoch 20/30\n",
            "1719/1719 [==============================] - 10s 6ms/step - loss: 0.2872 - accuracy: 0.9078 - val_loss: 0.7679 - val_accuracy: 0.8798\n",
            "Epoch 21/30\n",
            "1719/1719 [==============================] - 10s 6ms/step - loss: 0.2858 - accuracy: 0.9083 - val_loss: 0.6945 - val_accuracy: 0.8910\n",
            "Epoch 22/30\n",
            "1719/1719 [==============================] - 10s 6ms/step - loss: 0.2900 - accuracy: 0.9105 - val_loss: 0.7228 - val_accuracy: 0.8882\n",
            "Epoch 23/30\n",
            "1719/1719 [==============================] - 10s 6ms/step - loss: 0.2836 - accuracy: 0.9099 - val_loss: 0.8169 - val_accuracy: 0.8746\n",
            "Epoch 24/30\n",
            "1719/1719 [==============================] - 10s 6ms/step - loss: 0.2835 - accuracy: 0.9115 - val_loss: 0.6270 - val_accuracy: 0.8894\n",
            "Epoch 25/30\n",
            "1719/1719 [==============================] - 10s 6ms/step - loss: 0.2818 - accuracy: 0.9139 - val_loss: 0.8345 - val_accuracy: 0.8932\n",
            "Epoch 26/30\n",
            "1719/1719 [==============================] - 10s 6ms/step - loss: 0.2697 - accuracy: 0.9150 - val_loss: 0.8920 - val_accuracy: 0.8864\n",
            "Epoch 27/30\n",
            "1719/1719 [==============================] - 10s 6ms/step - loss: 0.2725 - accuracy: 0.9157 - val_loss: 0.7692 - val_accuracy: 0.8880\n",
            "Epoch 28/30\n",
            "1719/1719 [==============================] - 10s 6ms/step - loss: 0.2714 - accuracy: 0.9149 - val_loss: 0.8557 - val_accuracy: 0.8902\n",
            "Epoch 29/30\n",
            "1719/1719 [==============================] - 10s 6ms/step - loss: 0.2773 - accuracy: 0.9158 - val_loss: 0.7928 - val_accuracy: 0.8796\n",
            "Epoch 30/30\n",
            "1719/1719 [==============================] - 10s 6ms/step - loss: 0.2683 - accuracy: 0.9188 - val_loss: 0.8834 - val_accuracy: 0.8828\n"
          ]
        }
      ]
    },
    {
      "cell_type": "code",
      "source": [
        "import pandas as pd\n",
        "\n",
        "pd.DataFrame(history.history).plot(figsize=(8, 5))\n",
        "plt.grid(True)\n",
        "plt.gca().set_ylim(0, 1)\n",
        "plt.show()"
      ],
      "metadata": {
        "id": "R4oD9ljedsO5",
        "outputId": "22cd7d95-4ded-43f7-9fe4-e7381639fee8",
        "colab": {
          "base_uri": "https://localhost:8080/",
          "height": 328
        }
      },
      "execution_count": 41,
      "outputs": [
        {
          "output_type": "display_data",
          "data": {
            "text/plain": [
              "<Figure size 576x360 with 1 Axes>"
            ],
            "image/png": "[encoded data removed]"
          },
          "metadata": {
            "needs_background": "light"
          }
        }
      ]
    },
    {
      "cell_type": "markdown",
      "source": [
        "* adam"
      ],
      "metadata": {
        "id": "Yryp1CCrmfGk"
      }
    },
    {
      "cell_type": "code",
      "source": [
        "model = keras.models.Sequential([\n",
        "    keras.layers.Flatten(input_shape=[28, 28]),\n",
        "    keras.layers.Dense(300, activation=\"relu\"),\n",
        "    keras.layers.Dense(100, activation=\"relu\"),\n",
        "    keras.layers.Dense(10, activation=\"softmax\")\n",
        "])"
      ],
      "metadata": {
        "id": "612MtAhMe68n"
      },
      "execution_count": 42,
      "outputs": []
    },
    {
      "cell_type": "code",
      "source": [
        "model.compile(loss=\"sparse_categorical_crossentropy\",\n",
        "             optimizer=\"adam\",\n",
        "              metrics=[\"accuracy\"])"
      ],
      "metadata": {
        "id": "fsywGeugfA72"
      },
      "execution_count": 43,
      "outputs": []
    },
    {
      "cell_type": "code",
      "source": [
        "history = model.fit(X_train, y_train, batch_size=32, epochs=30,\n",
        "                    validation_data=(X_valid, y_valid))"
      ],
      "metadata": {
        "id": "qe9Un2SvfIMS",
        "outputId": "724a402c-892c-4171-e969-07383e560e8e",
        "colab": {
          "base_uri": "https://localhost:8080/"
        }
      },
      "execution_count": 44,
      "outputs": [
        {
          "output_type": "stream",
          "name": "stdout",
          "text": [
            "Epoch 1/30\n",
            "1719/1719 [==============================] - 8s 4ms/step - loss: 0.4855 - accuracy: 0.8254 - val_loss: 0.4058 - val_accuracy: 0.8528\n",
            "Epoch 2/30\n",
            "1719/1719 [==============================] - 7s 4ms/step - loss: 0.3644 - accuracy: 0.8653 - val_loss: 0.3463 - val_accuracy: 0.8744\n",
            "Epoch 3/30\n",
            "1719/1719 [==============================] - 7s 4ms/step - loss: 0.3290 - accuracy: 0.8777 - val_loss: 0.3358 - val_accuracy: 0.8766\n",
            "Epoch 4/30\n",
            "1719/1719 [==============================] - 7s 4ms/step - loss: 0.3027 - accuracy: 0.8880 - val_loss: 0.3405 - val_accuracy: 0.8728\n",
            "Epoch 5/30\n",
            "1719/1719 [==============================] - 7s 4ms/step - loss: 0.2858 - accuracy: 0.8938 - val_loss: 0.3280 - val_accuracy: 0.8780\n",
            "Epoch 6/30\n",
            "1719/1719 [==============================] - 9s 5ms/step - loss: 0.2708 - accuracy: 0.8987 - val_loss: 0.3114 - val_accuracy: 0.8878\n",
            "Epoch 7/30\n",
            "1719/1719 [==============================] - 8s 4ms/step - loss: 0.2588 - accuracy: 0.9022 - val_loss: 0.3009 - val_accuracy: 0.8904\n",
            "Epoch 8/30\n",
            "1719/1719 [==============================] - 9s 5ms/step - loss: 0.2492 - accuracy: 0.9048 - val_loss: 0.3138 - val_accuracy: 0.8876\n",
            "Epoch 9/30\n",
            "1719/1719 [==============================] - 9s 5ms/step - loss: 0.2358 - accuracy: 0.9097 - val_loss: 0.3064 - val_accuracy: 0.8914\n",
            "Epoch 10/30\n",
            "1719/1719 [==============================] - 7s 4ms/step - loss: 0.2285 - accuracy: 0.9139 - val_loss: 0.3035 - val_accuracy: 0.8888\n",
            "Epoch 11/30\n",
            "1719/1719 [==============================] - 8s 5ms/step - loss: 0.2180 - accuracy: 0.9166 - val_loss: 0.3110 - val_accuracy: 0.8914\n",
            "Epoch 12/30\n",
            "1719/1719 [==============================] - 7s 4ms/step - loss: 0.2110 - accuracy: 0.9189 - val_loss: 0.3152 - val_accuracy: 0.8958\n",
            "Epoch 13/30\n",
            "1719/1719 [==============================] - 7s 4ms/step - loss: 0.2047 - accuracy: 0.9225 - val_loss: 0.3245 - val_accuracy: 0.8930\n",
            "Epoch 14/30\n",
            "1719/1719 [==============================] - 7s 4ms/step - loss: 0.1979 - accuracy: 0.9246 - val_loss: 0.3088 - val_accuracy: 0.8994\n",
            "Epoch 15/30\n",
            "1719/1719 [==============================] - 10s 6ms/step - loss: 0.1907 - accuracy: 0.9271 - val_loss: 0.3172 - val_accuracy: 0.8972\n",
            "Epoch 16/30\n",
            "1719/1719 [==============================] - 9s 5ms/step - loss: 0.1853 - accuracy: 0.9281 - val_loss: 0.3309 - val_accuracy: 0.8998\n",
            "Epoch 17/30\n",
            "1719/1719 [==============================] - 9s 5ms/step - loss: 0.1757 - accuracy: 0.9316 - val_loss: 0.3290 - val_accuracy: 0.9004\n",
            "Epoch 18/30\n",
            "1719/1719 [==============================] - 9s 5ms/step - loss: 0.1745 - accuracy: 0.9336 - val_loss: 0.3288 - val_accuracy: 0.9022\n",
            "Epoch 19/30\n",
            "1719/1719 [==============================] - 11s 7ms/step - loss: 0.1679 - accuracy: 0.9357 - val_loss: 0.3539 - val_accuracy: 0.8924\n",
            "Epoch 20/30\n",
            "1719/1719 [==============================] - 8s 5ms/step - loss: 0.1627 - accuracy: 0.9376 - val_loss: 0.3420 - val_accuracy: 0.8932\n",
            "Epoch 21/30\n",
            "1719/1719 [==============================] - 9s 5ms/step - loss: 0.1618 - accuracy: 0.9374 - val_loss: 0.3840 - val_accuracy: 0.8944\n",
            "Epoch 22/30\n",
            "1719/1719 [==============================] - 9s 5ms/step - loss: 0.1553 - accuracy: 0.9409 - val_loss: 0.3732 - val_accuracy: 0.8944\n",
            "Epoch 23/30\n",
            "1719/1719 [==============================] - 10s 6ms/step - loss: 0.1528 - accuracy: 0.9414 - val_loss: 0.3777 - val_accuracy: 0.8920\n",
            "Epoch 24/30\n",
            "1719/1719 [==============================] - 11s 7ms/step - loss: 0.1471 - accuracy: 0.9435 - val_loss: 0.4219 - val_accuracy: 0.8892\n",
            "Epoch 25/30\n",
            "1719/1719 [==============================] - 10s 6ms/step - loss: 0.1437 - accuracy: 0.9461 - val_loss: 0.3747 - val_accuracy: 0.9008\n",
            "Epoch 26/30\n",
            "1719/1719 [==============================] - 8s 5ms/step - loss: 0.1404 - accuracy: 0.9465 - val_loss: 0.3947 - val_accuracy: 0.8968\n",
            "Epoch 27/30\n",
            "1719/1719 [==============================] - 8s 5ms/step - loss: 0.1407 - accuracy: 0.9458 - val_loss: 0.4106 - val_accuracy: 0.8906\n",
            "Epoch 28/30\n",
            "1719/1719 [==============================] - 9s 5ms/step - loss: 0.1330 - accuracy: 0.9494 - val_loss: 0.3886 - val_accuracy: 0.9006\n",
            "Epoch 29/30\n",
            "1719/1719 [==============================] - 9s 5ms/step - loss: 0.1292 - accuracy: 0.9497 - val_loss: 0.4136 - val_accuracy: 0.8980\n",
            "Epoch 30/30\n",
            "1719/1719 [==============================] - 11s 7ms/step - loss: 0.1312 - accuracy: 0.9507 - val_loss: 0.4202 - val_accuracy: 0.8952\n"
          ]
        }
      ]
    },
    {
      "cell_type": "code",
      "source": [
        "import pandas as pd\n",
        "\n",
        "pd.DataFrame(history.history).plot(figsize=(8, 5))\n",
        "plt.grid(True)\n",
        "plt.gca().set_ylim(0, 1)\n",
        "plt.show()"
      ],
      "metadata": {
        "id": "IUbdrxCufLDE",
        "outputId": "5c24aea5-c598-4b23-e549-ec40e60b51b3",
        "colab": {
          "base_uri": "https://localhost:8080/",
          "height": 328
        }
      },
      "execution_count": 45,
      "outputs": [
        {
          "output_type": "display_data",
          "data": {
            "text/plain": [
              "<Figure size 576x360 with 1 Axes>"
            ],
            "image/png": "[encoded data removed]"
          },
          "metadata": {
            "needs_background": "light"
          }
        }
      ]
    },
    {
      "cell_type": "markdown",
      "source": [
        "### batch_size"
      ],
      "metadata": {
        "id": "LqBOKhHlmnye"
      }
    },
    {
      "cell_type": "markdown",
      "source": [
        "- batch-size=24"
      ],
      "metadata": {
        "id": "cgkh7QLLmt91"
      }
    },
    {
      "cell_type": "code",
      "source": [
        "model = keras.models.Sequential([\n",
        "    keras.layers.Flatten(input_shape=[28, 28]),\n",
        "    keras.layers.Dense(300, activation=\"relu\"),\n",
        "    keras.layers.Dense(100, activation=\"relu\"),\n",
        "    keras.layers.Dense(10, activation=\"softmax\")\n",
        "])"
      ],
      "metadata": {
        "id": "TDYY5mr1fUlv"
      },
      "execution_count": 46,
      "outputs": []
    },
    {
      "cell_type": "code",
      "source": [
        "model.compile(loss=\"sparse_categorical_crossentropy\",\n",
        "             optimizer=\"sgd\",\n",
        "              metrics=[\"accuracy\"])"
      ],
      "metadata": {
        "id": "O2ReVp_7fZQC"
      },
      "execution_count": 47,
      "outputs": []
    },
    {
      "cell_type": "code",
      "source": [
        "history = model.fit(X_train, y_train, batch_size=24, epochs=30,\n",
        "                    validation_data=(X_valid, y_valid))"
      ],
      "metadata": {
        "id": "QM1YR2YxfaL_",
        "outputId": "82bc29a6-ebf0-417f-bcd5-599d58bbbaaa",
        "colab": {
          "base_uri": "https://localhost:8080/"
        }
      },
      "execution_count": 48,
      "outputs": [
        {
          "output_type": "stream",
          "name": "stdout",
          "text": [
            "Epoch 1/30\n",
            "2292/2292 [==============================] - 9s 4ms/step - loss: 0.6688 - accuracy: 0.7783 - val_loss: 0.5560 - val_accuracy: 0.8116\n",
            "Epoch 2/30\n",
            "2292/2292 [==============================] - 8s 3ms/step - loss: 0.4685 - accuracy: 0.8355 - val_loss: 0.4812 - val_accuracy: 0.8334\n",
            "Epoch 3/30\n",
            "2292/2292 [==============================] - 9s 4ms/step - loss: 0.4243 - accuracy: 0.8509 - val_loss: 0.4303 - val_accuracy: 0.8468\n",
            "Epoch 4/30\n",
            "2292/2292 [==============================] - 8s 4ms/step - loss: 0.3971 - accuracy: 0.8608 - val_loss: 0.3937 - val_accuracy: 0.8632\n",
            "Epoch 5/30\n",
            "2292/2292 [==============================] - 9s 4ms/step - loss: 0.3784 - accuracy: 0.8661 - val_loss: 0.3721 - val_accuracy: 0.8712\n",
            "Epoch 6/30\n",
            "2292/2292 [==============================] - 8s 3ms/step - loss: 0.3619 - accuracy: 0.8716 - val_loss: 0.3683 - val_accuracy: 0.8658\n",
            "Epoch 7/30\n",
            "2292/2292 [==============================] - 9s 4ms/step - loss: 0.3480 - accuracy: 0.8765 - val_loss: 0.3555 - val_accuracy: 0.8742\n",
            "Epoch 8/30\n",
            "2292/2292 [==============================] - 8s 3ms/step - loss: 0.3362 - accuracy: 0.8797 - val_loss: 0.3933 - val_accuracy: 0.8618\n",
            "Epoch 9/30\n",
            "2292/2292 [==============================] - 8s 4ms/step - loss: 0.3257 - accuracy: 0.8829 - val_loss: 0.3354 - val_accuracy: 0.8792\n",
            "Epoch 10/30\n",
            "2292/2292 [==============================] - 8s 4ms/step - loss: 0.3158 - accuracy: 0.8852 - val_loss: 0.3516 - val_accuracy: 0.8706\n",
            "Epoch 11/30\n",
            "2292/2292 [==============================] - 8s 4ms/step - loss: 0.3076 - accuracy: 0.8886 - val_loss: 0.3270 - val_accuracy: 0.8784\n",
            "Epoch 12/30\n",
            "2292/2292 [==============================] - 9s 4ms/step - loss: 0.2991 - accuracy: 0.8921 - val_loss: 0.3158 - val_accuracy: 0.8836\n",
            "Epoch 13/30\n",
            "2292/2292 [==============================] - 8s 3ms/step - loss: 0.2929 - accuracy: 0.8937 - val_loss: 0.3129 - val_accuracy: 0.8858\n",
            "Epoch 14/30\n",
            "2292/2292 [==============================] - 8s 3ms/step - loss: 0.2845 - accuracy: 0.8967 - val_loss: 0.3194 - val_accuracy: 0.8830\n",
            "Epoch 15/30\n",
            "2292/2292 [==============================] - 8s 4ms/step - loss: 0.2777 - accuracy: 0.8984 - val_loss: 0.3069 - val_accuracy: 0.8848\n",
            "Epoch 16/30\n",
            "2292/2292 [==============================] - 8s 4ms/step - loss: 0.2719 - accuracy: 0.9003 - val_loss: 0.3034 - val_accuracy: 0.8892\n",
            "Epoch 17/30\n",
            "2292/2292 [==============================] - 8s 3ms/step - loss: 0.2660 - accuracy: 0.9045 - val_loss: 0.3231 - val_accuracy: 0.8812\n",
            "Epoch 18/30\n",
            "2292/2292 [==============================] - 8s 3ms/step - loss: 0.2609 - accuracy: 0.9054 - val_loss: 0.3114 - val_accuracy: 0.8860\n",
            "Epoch 19/30\n",
            "2292/2292 [==============================] - 8s 3ms/step - loss: 0.2555 - accuracy: 0.9067 - val_loss: 0.3146 - val_accuracy: 0.8822\n",
            "Epoch 20/30\n",
            "2292/2292 [==============================] - 9s 4ms/step - loss: 0.2499 - accuracy: 0.9090 - val_loss: 0.2979 - val_accuracy: 0.8882\n",
            "Epoch 21/30\n",
            "2292/2292 [==============================] - 8s 3ms/step - loss: 0.2447 - accuracy: 0.9109 - val_loss: 0.3209 - val_accuracy: 0.8816\n",
            "Epoch 22/30\n",
            "2292/2292 [==============================] - 7s 3ms/step - loss: 0.2392 - accuracy: 0.9134 - val_loss: 0.3153 - val_accuracy: 0.8866\n",
            "Epoch 23/30\n",
            "2292/2292 [==============================] - 8s 3ms/step - loss: 0.2349 - accuracy: 0.9156 - val_loss: 0.3111 - val_accuracy: 0.8878\n",
            "Epoch 24/30\n",
            "2292/2292 [==============================] - 8s 4ms/step - loss: 0.2304 - accuracy: 0.9161 - val_loss: 0.2983 - val_accuracy: 0.8914\n",
            "Epoch 25/30\n",
            "2292/2292 [==============================] - 8s 3ms/step - loss: 0.2251 - accuracy: 0.9185 - val_loss: 0.2943 - val_accuracy: 0.8908\n",
            "Epoch 26/30\n",
            "2292/2292 [==============================] - 8s 4ms/step - loss: 0.2221 - accuracy: 0.9195 - val_loss: 0.3244 - val_accuracy: 0.8846\n",
            "Epoch 27/30\n",
            "2292/2292 [==============================] - 8s 4ms/step - loss: 0.2168 - accuracy: 0.9214 - val_loss: 0.3013 - val_accuracy: 0.8904\n",
            "Epoch 28/30\n",
            "2292/2292 [==============================] - 8s 4ms/step - loss: 0.2131 - accuracy: 0.9227 - val_loss: 0.2950 - val_accuracy: 0.8930\n",
            "Epoch 29/30\n",
            "2292/2292 [==============================] - 8s 3ms/step - loss: 0.2090 - accuracy: 0.9241 - val_loss: 0.2889 - val_accuracy: 0.8896\n",
            "Epoch 30/30\n",
            "2292/2292 [==============================] - 8s 4ms/step - loss: 0.2038 - accuracy: 0.9257 - val_loss: 0.2984 - val_accuracy: 0.8902\n"
          ]
        }
      ]
    },
    {
      "cell_type": "code",
      "source": [
        "import pandas as pd\n",
        "\n",
        "pd.DataFrame(history.history).plot(figsize=(8, 5))\n",
        "plt.grid(True)\n",
        "plt.gca().set_ylim(0, 1)\n",
        "plt.show()"
      ],
      "metadata": {
        "id": "0ViiCtdcfg_B",
        "outputId": "59530f59-7282-4c28-c57d-120274b54add",
        "colab": {
          "base_uri": "https://localhost:8080/",
          "height": 328
        }
      },
      "execution_count": 49,
      "outputs": [
        {
          "output_type": "display_data",
          "data": {
            "text/plain": [
              "<Figure size 576x360 with 1 Axes>"
            ],
            "image/png": "[encoded data removed]"
          },
          "metadata": {
            "needs_background": "light"
          }
        }
      ]
    },
    {
      "cell_type": "markdown",
      "source": [
        "- batch-size=40"
      ],
      "metadata": {
        "id": "7d7yjvWom00w"
      }
    },
    {
      "cell_type": "code",
      "source": [
        "model = keras.models.Sequential([\n",
        "    keras.layers.Flatten(input_shape=[28, 28]),\n",
        "    keras.layers.Dense(300, activation=\"relu\"),\n",
        "    keras.layers.Dense(100, activation=\"relu\"),\n",
        "    keras.layers.Dense(10, activation=\"softmax\")\n",
        "])"
      ],
      "metadata": {
        "id": "WQvbPxtBfnVd"
      },
      "execution_count": 50,
      "outputs": []
    },
    {
      "cell_type": "code",
      "source": [
        "model.compile(loss=\"sparse_categorical_crossentropy\",\n",
        "             optimizer=\"sgd\",\n",
        "              metrics=[\"accuracy\"])"
      ],
      "metadata": {
        "id": "hsM0tCf-frq_"
      },
      "execution_count": 51,
      "outputs": []
    },
    {
      "cell_type": "code",
      "source": [
        "history = model.fit(X_train, y_train, batch_size=40, epochs=30,\n",
        "                    validation_data=(X_valid, y_valid))"
      ],
      "metadata": {
        "id": "BAHJY404fut1",
        "outputId": "62688cf0-e160-418f-be0a-35f853d2b33e",
        "colab": {
          "base_uri": "https://localhost:8080/"
        }
      },
      "execution_count": 52,
      "outputs": [
        {
          "output_type": "stream",
          "name": "stdout",
          "text": [
            "Epoch 1/30\n",
            "1375/1375 [==============================] - 7s 5ms/step - loss: 0.7437 - accuracy: 0.7582 - val_loss: 0.5147 - val_accuracy: 0.8260\n",
            "Epoch 2/30\n",
            "1375/1375 [==============================] - 6s 4ms/step - loss: 0.4978 - accuracy: 0.8281 - val_loss: 0.4546 - val_accuracy: 0.8502\n",
            "Epoch 3/30\n",
            "1375/1375 [==============================] - 7s 5ms/step - loss: 0.4514 - accuracy: 0.8417 - val_loss: 0.4335 - val_accuracy: 0.8484\n",
            "Epoch 4/30\n",
            "1375/1375 [==============================] - 6s 4ms/step - loss: 0.4233 - accuracy: 0.8518 - val_loss: 0.4084 - val_accuracy: 0.8618\n",
            "Epoch 5/30\n",
            "1375/1375 [==============================] - 6s 4ms/step - loss: 0.4045 - accuracy: 0.8579 - val_loss: 0.3857 - val_accuracy: 0.8666\n",
            "Epoch 6/30\n",
            "1375/1375 [==============================] - 6s 5ms/step - loss: 0.3883 - accuracy: 0.8641 - val_loss: 0.3937 - val_accuracy: 0.8638\n",
            "Epoch 7/30\n",
            "1375/1375 [==============================] - 6s 5ms/step - loss: 0.3759 - accuracy: 0.8658 - val_loss: 0.3824 - val_accuracy: 0.8666\n",
            "Epoch 8/30\n",
            "1375/1375 [==============================] - 6s 4ms/step - loss: 0.3637 - accuracy: 0.8721 - val_loss: 0.3665 - val_accuracy: 0.8714\n",
            "Epoch 9/30\n",
            "1375/1375 [==============================] - 6s 4ms/step - loss: 0.3535 - accuracy: 0.8745 - val_loss: 0.3620 - val_accuracy: 0.8748\n",
            "Epoch 10/30\n",
            "1375/1375 [==============================] - 6s 4ms/step - loss: 0.3450 - accuracy: 0.8772 - val_loss: 0.3512 - val_accuracy: 0.8736\n",
            "Epoch 11/30\n",
            "1375/1375 [==============================] - 6s 4ms/step - loss: 0.3352 - accuracy: 0.8813 - val_loss: 0.3570 - val_accuracy: 0.8742\n",
            "Epoch 12/30\n",
            "1375/1375 [==============================] - 6s 4ms/step - loss: 0.3292 - accuracy: 0.8824 - val_loss: 0.3385 - val_accuracy: 0.8790\n",
            "Epoch 13/30\n",
            "1375/1375 [==============================] - 6s 4ms/step - loss: 0.3223 - accuracy: 0.8840 - val_loss: 0.3541 - val_accuracy: 0.8770\n",
            "Epoch 14/30\n",
            "1375/1375 [==============================] - 6s 4ms/step - loss: 0.3152 - accuracy: 0.8883 - val_loss: 0.3450 - val_accuracy: 0.8818\n",
            "Epoch 15/30\n",
            "1375/1375 [==============================] - 6s 4ms/step - loss: 0.3084 - accuracy: 0.8891 - val_loss: 0.3367 - val_accuracy: 0.8816\n",
            "Epoch 16/30\n",
            "1375/1375 [==============================] - 6s 4ms/step - loss: 0.3032 - accuracy: 0.8916 - val_loss: 0.3426 - val_accuracy: 0.8816\n",
            "Epoch 17/30\n",
            "1375/1375 [==============================] - 6s 4ms/step - loss: 0.2979 - accuracy: 0.8937 - val_loss: 0.3267 - val_accuracy: 0.8844\n",
            "Epoch 18/30\n",
            "1375/1375 [==============================] - 6s 4ms/step - loss: 0.2924 - accuracy: 0.8952 - val_loss: 0.3315 - val_accuracy: 0.8822\n",
            "Epoch 19/30\n",
            "1375/1375 [==============================] - 6s 4ms/step - loss: 0.2874 - accuracy: 0.8972 - val_loss: 0.3194 - val_accuracy: 0.8862\n",
            "Epoch 20/30\n",
            "1375/1375 [==============================] - 6s 4ms/step - loss: 0.2824 - accuracy: 0.8987 - val_loss: 0.3230 - val_accuracy: 0.8880\n",
            "Epoch 21/30\n",
            "1375/1375 [==============================] - 6s 4ms/step - loss: 0.2779 - accuracy: 0.9000 - val_loss: 0.3133 - val_accuracy: 0.8884\n",
            "Epoch 22/30\n",
            "1375/1375 [==============================] - 6s 4ms/step - loss: 0.2726 - accuracy: 0.9019 - val_loss: 0.3147 - val_accuracy: 0.8862\n",
            "Epoch 23/30\n",
            "1375/1375 [==============================] - 6s 4ms/step - loss: 0.2688 - accuracy: 0.9036 - val_loss: 0.3160 - val_accuracy: 0.8860\n",
            "Epoch 24/30\n",
            "1375/1375 [==============================] - 6s 4ms/step - loss: 0.2649 - accuracy: 0.9060 - val_loss: 0.3197 - val_accuracy: 0.8870\n",
            "Epoch 25/30\n",
            "1375/1375 [==============================] - 6s 4ms/step - loss: 0.2596 - accuracy: 0.9067 - val_loss: 0.3129 - val_accuracy: 0.8892\n",
            "Epoch 26/30\n",
            "1375/1375 [==============================] - 6s 4ms/step - loss: 0.2565 - accuracy: 0.9092 - val_loss: 0.3168 - val_accuracy: 0.8882\n",
            "Epoch 27/30\n",
            "1375/1375 [==============================] - 6s 4ms/step - loss: 0.2518 - accuracy: 0.9086 - val_loss: 0.3143 - val_accuracy: 0.8874\n",
            "Epoch 28/30\n",
            "1375/1375 [==============================] - 6s 4ms/step - loss: 0.2486 - accuracy: 0.9112 - val_loss: 0.3126 - val_accuracy: 0.8896\n",
            "Epoch 29/30\n",
            "1375/1375 [==============================] - 6s 4ms/step - loss: 0.2443 - accuracy: 0.9124 - val_loss: 0.3050 - val_accuracy: 0.8868\n",
            "Epoch 30/30\n",
            "1375/1375 [==============================] - 6s 4ms/step - loss: 0.2411 - accuracy: 0.9135 - val_loss: 0.3003 - val_accuracy: 0.8922\n"
          ]
        }
      ]
    },
    {
      "cell_type": "code",
      "source": [
        "import pandas as pd\n",
        "\n",
        "pd.DataFrame(history.history).plot(figsize=(8, 5))\n",
        "plt.grid(True)\n",
        "plt.gca().set_ylim(0, 1)\n",
        "plt.show()"
      ],
      "metadata": {
        "id": "meaL8UKsfxZx",
        "outputId": "1d195569-2875-4f2d-d1d5-e56129e2cd4d",
        "colab": {
          "base_uri": "https://localhost:8080/",
          "height": 328
        }
      },
      "execution_count": 53,
      "outputs": [
        {
          "output_type": "display_data",
          "data": {
            "text/plain": [
              "<Figure size 576x360 with 1 Axes>"
            ],
            "image/png": "[encoded data removed]"
          },
          "metadata": {
            "needs_background": "light"
          }
        }
      ]
    },
    {
      "cell_type": "markdown",
      "source": [
        "### epochs"
      ],
      "metadata": {
        "id": "7wcbgFGJm7pX"
      }
    },
    {
      "cell_type": "markdown",
      "source": [
        "- epochs=10"
      ],
      "metadata": {
        "id": "fw-AVWPYm-pM"
      }
    },
    {
      "cell_type": "code",
      "source": [
        "model = keras.models.Sequential([\n",
        "    keras.layers.Flatten(input_shape=[28, 28]),\n",
        "    keras.layers.Dense(300, activation=\"relu\"),\n",
        "    keras.layers.Dense(100, activation=\"relu\"),\n",
        "    keras.layers.Dense(10, activation=\"softmax\")\n",
        "])"
      ],
      "metadata": {
        "id": "2NOLgBIHfzdJ"
      },
      "execution_count": 54,
      "outputs": []
    },
    {
      "cell_type": "code",
      "source": [
        "model.compile(loss=\"sparse_categorical_crossentropy\",\n",
        "             optimizer=\"sgd\",\n",
        "              metrics=[\"accuracy\"])"
      ],
      "metadata": {
        "id": "tjNidCJEf4eo"
      },
      "execution_count": 55,
      "outputs": []
    },
    {
      "cell_type": "code",
      "source": [
        "history = model.fit(X_train, y_train, batch_size=32, epochs=10,\n",
        "                    validation_data=(X_valid, y_valid))"
      ],
      "metadata": {
        "id": "O8Bd-zQqf8L8",
        "outputId": "f6e16409-d67c-4ebf-d180-d8bc891b03c4",
        "colab": {
          "base_uri": "https://localhost:8080/"
        }
      },
      "execution_count": 56,
      "outputs": [
        {
          "output_type": "stream",
          "name": "stdout",
          "text": [
            "Epoch 1/10\n",
            "1719/1719 [==============================] - 7s 4ms/step - loss: 0.7313 - accuracy: 0.7621 - val_loss: 0.5179 - val_accuracy: 0.8258\n",
            "Epoch 2/10\n",
            "1719/1719 [==============================] - 6s 3ms/step - loss: 0.4946 - accuracy: 0.8263 - val_loss: 0.4421 - val_accuracy: 0.8502\n",
            "Epoch 3/10\n",
            "1719/1719 [==============================] - 6s 4ms/step - loss: 0.4494 - accuracy: 0.8424 - val_loss: 0.4089 - val_accuracy: 0.8582\n",
            "Epoch 4/10\n",
            "1719/1719 [==============================] - 6s 4ms/step - loss: 0.4201 - accuracy: 0.8523 - val_loss: 0.4138 - val_accuracy: 0.8548\n",
            "Epoch 5/10\n",
            "1719/1719 [==============================] - 6s 4ms/step - loss: 0.4003 - accuracy: 0.8593 - val_loss: 0.3941 - val_accuracy: 0.8630\n",
            "Epoch 6/10\n",
            "1719/1719 [==============================] - 6s 4ms/step - loss: 0.3856 - accuracy: 0.8646 - val_loss: 0.3765 - val_accuracy: 0.8704\n",
            "Epoch 7/10\n",
            "1719/1719 [==============================] - 6s 4ms/step - loss: 0.3715 - accuracy: 0.8683 - val_loss: 0.3948 - val_accuracy: 0.8598\n",
            "Epoch 8/10\n",
            "1719/1719 [==============================] - 6s 4ms/step - loss: 0.3591 - accuracy: 0.8729 - val_loss: 0.3746 - val_accuracy: 0.8662\n",
            "Epoch 9/10\n",
            "1719/1719 [==============================] - 6s 4ms/step - loss: 0.3491 - accuracy: 0.8761 - val_loss: 0.3579 - val_accuracy: 0.8736\n",
            "Epoch 10/10\n",
            "1719/1719 [==============================] - 6s 4ms/step - loss: 0.3399 - accuracy: 0.8784 - val_loss: 0.3620 - val_accuracy: 0.8706\n"
          ]
        }
      ]
    },
    {
      "cell_type": "code",
      "source": [
        "import pandas as pd\n",
        "\n",
        "pd.DataFrame(history.history).plot(figsize=(8, 5))\n",
        "plt.grid(True)\n",
        "plt.gca().set_ylim(0, 1)\n",
        "plt.show()"
      ],
      "metadata": {
        "id": "xnVNIaCNf8Sp",
        "outputId": "15f02146-54a0-4fb2-ba6a-f98b08ab8afb",
        "colab": {
          "base_uri": "https://localhost:8080/",
          "height": 328
        }
      },
      "execution_count": 57,
      "outputs": [
        {
          "output_type": "display_data",
          "data": {
            "text/plain": [
              "<Figure size 576x360 with 1 Axes>"
            ],
            "image/png": "[encoded data removed]"
          },
          "metadata": {
            "needs_background": "light"
          }
        }
      ]
    },
    {
      "cell_type": "markdown",
      "source": [
        "- epochs=40"
      ],
      "metadata": {
        "id": "yL2EzK4inLNw"
      }
    },
    {
      "cell_type": "code",
      "source": [
        "model = keras.models.Sequential([\n",
        "    keras.layers.Flatten(input_shape=[28, 28]),\n",
        "    keras.layers.Dense(300, activation=\"relu\"),\n",
        "    keras.layers.Dense(100, activation=\"relu\"),\n",
        "    keras.layers.Dense(10, activation=\"softmax\")\n",
        "])"
      ],
      "metadata": {
        "id": "GjrAZymhgI8i"
      },
      "execution_count": 58,
      "outputs": []
    },
    {
      "cell_type": "code",
      "source": [
        "model.compile(loss=\"sparse_categorical_crossentropy\",\n",
        "             optimizer=\"sgd\",\n",
        "              metrics=[\"accuracy\"])"
      ],
      "metadata": {
        "id": "3ON64keBgPKf"
      },
      "execution_count": 59,
      "outputs": []
    },
    {
      "cell_type": "code",
      "source": [
        "history = model.fit(X_train, y_train, batch_size=32, epochs=40,\n",
        "                    validation_data=(X_valid, y_valid))"
      ],
      "metadata": {
        "id": "_Ib4aGKigQhA",
        "outputId": "c48dbb49-8830-48cd-8032-555b4c2a122d",
        "colab": {
          "base_uri": "https://localhost:8080/"
        }
      },
      "execution_count": 60,
      "outputs": [
        {
          "output_type": "stream",
          "name": "stdout",
          "text": [
            "Epoch 1/40\n",
            "1719/1719 [==============================] - 7s 4ms/step - loss: 0.7177 - accuracy: 0.7663 - val_loss: 0.5339 - val_accuracy: 0.8066\n",
            "Epoch 2/40\n",
            "1719/1719 [==============================] - 6s 4ms/step - loss: 0.4875 - accuracy: 0.8303 - val_loss: 0.4704 - val_accuracy: 0.8424\n",
            "Epoch 3/40\n",
            "1719/1719 [==============================] - 6s 4ms/step - loss: 0.4409 - accuracy: 0.8448 - val_loss: 0.4103 - val_accuracy: 0.8592\n",
            "Epoch 4/40\n",
            "1719/1719 [==============================] - 6s 4ms/step - loss: 0.4135 - accuracy: 0.8555 - val_loss: 0.4030 - val_accuracy: 0.8574\n",
            "Epoch 5/40\n",
            "1719/1719 [==============================] - 6s 4ms/step - loss: 0.3934 - accuracy: 0.8605 - val_loss: 0.3864 - val_accuracy: 0.8674\n",
            "Epoch 6/40\n",
            "1719/1719 [==============================] - 6s 4ms/step - loss: 0.3773 - accuracy: 0.8670 - val_loss: 0.3717 - val_accuracy: 0.8708\n",
            "Epoch 7/40\n",
            "1719/1719 [==============================] - 6s 4ms/step - loss: 0.3642 - accuracy: 0.8710 - val_loss: 0.3830 - val_accuracy: 0.8632\n",
            "Epoch 8/40\n",
            "1719/1719 [==============================] - 6s 4ms/step - loss: 0.3529 - accuracy: 0.8739 - val_loss: 0.3642 - val_accuracy: 0.8752\n",
            "Epoch 9/40\n",
            "1719/1719 [==============================] - 6s 4ms/step - loss: 0.3425 - accuracy: 0.8780 - val_loss: 0.3599 - val_accuracy: 0.8706\n",
            "Epoch 10/40\n",
            "1719/1719 [==============================] - 7s 4ms/step - loss: 0.3329 - accuracy: 0.8818 - val_loss: 0.3522 - val_accuracy: 0.8774\n",
            "Epoch 11/40\n",
            "1719/1719 [==============================] - 7s 4ms/step - loss: 0.3239 - accuracy: 0.8845 - val_loss: 0.3628 - val_accuracy: 0.8724\n",
            "Epoch 12/40\n",
            "1719/1719 [==============================] - 6s 4ms/step - loss: 0.3164 - accuracy: 0.8862 - val_loss: 0.3266 - val_accuracy: 0.8856\n",
            "Epoch 13/40\n",
            "1719/1719 [==============================] - 7s 4ms/step - loss: 0.3102 - accuracy: 0.8887 - val_loss: 0.3248 - val_accuracy: 0.8852\n",
            "Epoch 14/40\n",
            "1719/1719 [==============================] - 7s 4ms/step - loss: 0.3030 - accuracy: 0.8902 - val_loss: 0.3256 - val_accuracy: 0.8808\n",
            "Epoch 15/40\n",
            "1719/1719 [==============================] - 6s 4ms/step - loss: 0.2965 - accuracy: 0.8925 - val_loss: 0.3327 - val_accuracy: 0.8842\n",
            "Epoch 16/40\n",
            "1719/1719 [==============================] - 6s 4ms/step - loss: 0.2904 - accuracy: 0.8944 - val_loss: 0.3271 - val_accuracy: 0.8842\n",
            "Epoch 17/40\n",
            "1719/1719 [==============================] - 6s 4ms/step - loss: 0.2852 - accuracy: 0.8977 - val_loss: 0.3285 - val_accuracy: 0.8818\n",
            "Epoch 18/40\n",
            "1719/1719 [==============================] - 7s 4ms/step - loss: 0.2803 - accuracy: 0.8978 - val_loss: 0.3231 - val_accuracy: 0.8802\n",
            "Epoch 19/40\n",
            "1719/1719 [==============================] - 7s 4ms/step - loss: 0.2734 - accuracy: 0.9027 - val_loss: 0.3157 - val_accuracy: 0.8870\n",
            "Epoch 20/40\n",
            "1719/1719 [==============================] - 6s 4ms/step - loss: 0.2696 - accuracy: 0.9024 - val_loss: 0.3097 - val_accuracy: 0.8892\n",
            "Epoch 21/40\n",
            "1719/1719 [==============================] - 7s 4ms/step - loss: 0.2648 - accuracy: 0.9047 - val_loss: 0.3156 - val_accuracy: 0.8854\n",
            "Epoch 22/40\n",
            "1719/1719 [==============================] - 7s 4ms/step - loss: 0.2602 - accuracy: 0.9065 - val_loss: 0.3010 - val_accuracy: 0.8904\n",
            "Epoch 23/40\n",
            "1719/1719 [==============================] - 7s 4ms/step - loss: 0.2550 - accuracy: 0.9087 - val_loss: 0.3302 - val_accuracy: 0.8844\n",
            "Epoch 24/40\n",
            "1719/1719 [==============================] - 6s 4ms/step - loss: 0.2524 - accuracy: 0.9094 - val_loss: 0.3165 - val_accuracy: 0.8852\n",
            "Epoch 25/40\n",
            "1719/1719 [==============================] - 7s 4ms/step - loss: 0.2474 - accuracy: 0.9104 - val_loss: 0.3065 - val_accuracy: 0.8922\n",
            "Epoch 26/40\n",
            "1719/1719 [==============================] - 7s 4ms/step - loss: 0.2433 - accuracy: 0.9128 - val_loss: 0.3115 - val_accuracy: 0.8910\n",
            "Epoch 27/40\n",
            "1719/1719 [==============================] - 7s 4ms/step - loss: 0.2406 - accuracy: 0.9131 - val_loss: 0.3065 - val_accuracy: 0.8922\n",
            "Epoch 28/40\n",
            "1719/1719 [==============================] - 7s 4ms/step - loss: 0.2351 - accuracy: 0.9150 - val_loss: 0.3093 - val_accuracy: 0.8864\n",
            "Epoch 29/40\n",
            "1719/1719 [==============================] - 6s 4ms/step - loss: 0.2323 - accuracy: 0.9160 - val_loss: 0.2885 - val_accuracy: 0.8984\n",
            "Epoch 30/40\n",
            "1719/1719 [==============================] - 7s 4ms/step - loss: 0.2278 - accuracy: 0.9173 - val_loss: 0.2899 - val_accuracy: 0.8980\n",
            "Epoch 31/40\n",
            "1719/1719 [==============================] - 7s 4ms/step - loss: 0.2242 - accuracy: 0.9198 - val_loss: 0.2930 - val_accuracy: 0.8922\n",
            "Epoch 32/40\n",
            "1719/1719 [==============================] - 6s 4ms/step - loss: 0.2211 - accuracy: 0.9198 - val_loss: 0.2944 - val_accuracy: 0.8940\n",
            "Epoch 33/40\n",
            "1719/1719 [==============================] - 6s 4ms/step - loss: 0.2179 - accuracy: 0.9210 - val_loss: 0.2997 - val_accuracy: 0.8934\n",
            "Epoch 34/40\n",
            "1719/1719 [==============================] - 7s 4ms/step - loss: 0.2135 - accuracy: 0.9231 - val_loss: 0.2926 - val_accuracy: 0.8984\n",
            "Epoch 35/40\n",
            "1719/1719 [==============================] - 8s 4ms/step - loss: 0.2118 - accuracy: 0.9230 - val_loss: 0.3034 - val_accuracy: 0.8954\n",
            "Epoch 36/40\n",
            "1719/1719 [==============================] - 6s 4ms/step - loss: 0.2074 - accuracy: 0.9253 - val_loss: 0.2944 - val_accuracy: 0.8972\n",
            "Epoch 37/40\n",
            "1719/1719 [==============================] - 7s 4ms/step - loss: 0.2050 - accuracy: 0.9257 - val_loss: 0.2957 - val_accuracy: 0.8952\n",
            "Epoch 38/40\n",
            "1719/1719 [==============================] - 6s 4ms/step - loss: 0.2013 - accuracy: 0.9278 - val_loss: 0.2828 - val_accuracy: 0.8994\n",
            "Epoch 39/40\n",
            "1719/1719 [==============================] - 7s 4ms/step - loss: 0.1982 - accuracy: 0.9288 - val_loss: 0.2890 - val_accuracy: 0.8954\n",
            "Epoch 40/40\n",
            "1719/1719 [==============================] - 7s 4ms/step - loss: 0.1951 - accuracy: 0.9301 - val_loss: 0.2849 - val_accuracy: 0.9008\n"
          ]
        }
      ]
    },
    {
      "cell_type": "code",
      "source": [
        "import pandas as pd\n",
        "\n",
        "pd.DataFrame(history.history).plot(figsize=(8, 5))\n",
        "plt.grid(True)\n",
        "plt.gca().set_ylim(0, 1)\n",
        "plt.show()"
      ],
      "metadata": {
        "id": "QkYk2dIZgWk4",
        "outputId": "9abe6718-fa4d-4c67-addf-3062e882f99e",
        "colab": {
          "base_uri": "https://localhost:8080/",
          "height": 328
        }
      },
      "execution_count": 61,
      "outputs": [
        {
          "output_type": "display_data",
          "data": {
            "text/plain": [
              "<Figure size 576x360 with 1 Axes>"
            ],
            "image/png": "[encoded data removed]"
          },
          "metadata": {
            "needs_background": "light"
          }
        }
      ]
    },
    {
      "cell_type": "code",
      "source": [
        ""
      ],
      "metadata": {
        "id": "c3cbAHpSggmF"
      },
      "execution_count": null,
      "outputs": []
    }
  ],
  "metadata": {
    "kernelspec": {
      "display_name": "Python 3",
      "language": "python",
      "name": "python3"
    },
    "language_info": {
      "codemirror_mode": {
        "name": "ipython",
        "version": 3
      },
      "file_extension": ".py",
      "mimetype": "text/x-python",
      "name": "python",
      "nbconvert_exporter": "python",
      "pygments_lexer": "ipython3",
      "version": "3.6.1"
    },
    "nav_menu": {
      "height": "264px",
      "width": "369px"
    },
    "toc": {
      "navigate_menu": true,
      "number_sections": true,
      "sideBar": true,
      "threshold": 6,
      "toc_cell": false,
      "toc_section_display": "block",
      "toc_window_display": false
    },
    "colab": {
      "name": "ANN_with_keras.ipynb",
      "provenance": []
    }
  },
  "nbformat": 4,
  "nbformat_minor": 0
}